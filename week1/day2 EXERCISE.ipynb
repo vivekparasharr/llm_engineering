{
 "cells": [
  {
   "cell_type": "markdown",
   "id": "d15d8294-3328-4e07-ad16-8a03e9bbfdb9",
   "metadata": {},
   "source": [
    "# Welcome to your first assignment!\n",
    "\n",
    "Instructions are below. Please give this a try, and look in the solutions folder if you get stuck (or feel free to ask me!)"
   ]
  },
  {
   "cell_type": "markdown",
   "id": "ada885d9-4d42-4d9b-97f0-74fbbbfe93a9",
   "metadata": {},
   "source": [
    "<table style=\"margin: 0; text-align: left;\">\n",
    "    <tr>\n",
    "        <td style=\"width: 150px; height: 150px; vertical-align: middle;\">\n",
    "            <img src=\"../resources.jpg\" width=\"150\" height=\"150\" style=\"display: block;\" />\n",
    "        </td>\n",
    "        <td>\n",
    "            <h2 style=\"color:#f71;\">Just before we get to the assignment --</h2>\n",
    "            <span style=\"color:#f71;\">I thought I'd take a second to point you at this page of useful resources for the course. This includes links to all the slides.<br/>\n",
    "            <a href=\"https://edwarddonner.com/2024/11/13/llm-engineering-resources/\">https://edwarddonner.com/2024/11/13/llm-engineering-resources/</a><br/>\n",
    "            Please keep this bookmarked, and I'll continue to add more useful links there over time.\n",
    "            </span>\n",
    "        </td>\n",
    "    </tr>\n",
    "</table>"
   ]
  },
  {
   "cell_type": "markdown",
   "id": "6e9fa1fc-eac5-4d1d-9be4-541b3f2b3458",
   "metadata": {},
   "source": [
    "# HOMEWORK EXERCISE ASSIGNMENT\n",
    "\n",
    "Upgrade the day 1 project to summarize a webpage to use an Open Source model running locally via Ollama rather than OpenAI\n",
    "\n",
    "You'll be able to use this technique for all subsequent projects if you'd prefer not to use paid APIs.\n",
    "\n",
    "**Benefits:**\n",
    "1. No API charges - open-source\n",
    "2. Data doesn't leave your box\n",
    "\n",
    "**Disadvantages:**\n",
    "1. Significantly less power than Frontier Model\n",
    "\n",
    "## Recap on installation of Ollama\n",
    "\n",
    "Simply visit [ollama.com](https://ollama.com) and install!\n",
    "\n",
    "Once complete, the ollama server should already be running locally.  \n",
    "If you visit:  \n",
    "[http://localhost:11434/](http://localhost:11434/)\n",
    "\n",
    "You should see the message `Ollama is running`.  \n",
    "\n",
    "If not, bring up a new Terminal (Mac) or Powershell (Windows) and enter `ollama serve`  \n",
    "And in another Terminal (Mac) or Powershell (Windows), enter `ollama pull llama3.2`  \n",
    "Then try [http://localhost:11434/](http://localhost:11434/) again.\n",
    "\n",
    "If Ollama is slow on your machine, try using `llama3.2:1b` as an alternative. Run `ollama pull llama3.2:1b` from a Terminal or Powershell, and change the code below from `MODEL = \"llama3.2\"` to `MODEL = \"llama3.2:1b\"`"
   ]
  },
  {
   "cell_type": "code",
   "execution_count": 9,
   "id": "4e2a9393-7767-488e-a8bf-27c12dca35bd",
   "metadata": {},
   "outputs": [],
   "source": [
    "# imports\n",
    "\n",
    "import requests\n",
    "from bs4 import BeautifulSoup\n",
    "from IPython.display import Markdown, display"
   ]
  },
  {
   "cell_type": "code",
   "execution_count": 10,
   "id": "29ddd15d-a3c5-4f4e-a678-873f56162724",
   "metadata": {},
   "outputs": [],
   "source": [
    "# Constants\n",
    "\n",
    "OLLAMA_API = \"http://localhost:11434/api/chat\"\n",
    "HEADERS = {\"Content-Type\": \"application/json\"}\n",
    "MODEL = \"llama3.2\""
   ]
  },
  {
   "cell_type": "code",
   "execution_count": 11,
   "id": "dac0a679-599c-441f-9bf2-ddc73d35b940",
   "metadata": {},
   "outputs": [],
   "source": [
    "# Create a messages list using the same format that we used for OpenAI\n",
    "\n",
    "messages = [\n",
    "    {\"role\": \"user\", \"content\": \"Describe some of the business applications of Generative AI\"}\n",
    "]"
   ]
  },
  {
   "cell_type": "code",
   "execution_count": 12,
   "id": "7bb9c624-14f0-4945-a719-8ddb64f66f47",
   "metadata": {},
   "outputs": [],
   "source": [
    "payload = {\n",
    "        \"model\": MODEL,\n",
    "        \"messages\": messages,\n",
    "        \"stream\": False\n",
    "    }"
   ]
  },
  {
   "cell_type": "code",
   "execution_count": 13,
   "id": "479ff514-e8bd-4985-a572-2ea28bb4fa40",
   "metadata": {},
   "outputs": [
    {
     "name": "stdout",
     "output_type": "stream",
     "text": [
      "\u001b[?25lpulling manifest ⠋ \u001b[?25h\u001b[?25l\u001b[2K\u001b[1Gpulling manifest ⠙ \u001b[?25h\u001b[?25l\u001b[2K\u001b[1Gpulling manifest ⠹ \u001b[?25h\u001b[?25l\u001b[2K\u001b[1Gpulling manifest ⠸ \u001b[?25h\u001b[?25l\u001b[2K\u001b[1Gpulling manifest ⠼ \u001b[?25h\u001b[?25l\u001b[2K\u001b[1Gpulling manifest ⠴ \u001b[?25h\u001b[?25l\u001b[2K\u001b[1Gpulling manifest \n",
      "pulling dde5aa3fc5ff... 100% ▕████████████████▏ 2.0 GB                         \n",
      "pulling 966de95ca8a6... 100% ▕████████████████▏ 1.4 KB                         \n",
      "pulling fcc5a6bec9da... 100% ▕████████████████▏ 7.7 KB                         \n",
      "pulling a70ff7e570d9... 100% ▕████████████████▏ 6.0 KB                         \n",
      "pulling 56bb8bd477a5... 100% ▕████████████████▏   96 B                         \n",
      "pulling 34bb5ab01051... 100% ▕████████████████▏  561 B                         \n",
      "verifying sha256 digest \n",
      "writing manifest \n",
      "success \u001b[?25h\n"
     ]
    }
   ],
   "source": [
    "# Let's just make sure the model is loaded\n",
    "\n",
    "!ollama pull llama3.2"
   ]
  },
  {
   "cell_type": "code",
   "execution_count": 6,
   "id": "42b9f644-522d-4e05-a691-56e7658c0ea9",
   "metadata": {},
   "outputs": [
    {
     "name": "stdout",
     "output_type": "stream",
     "text": [
      "Generative AI has numerous business applications across various industries, including:\n",
      "\n",
      "1. **Content Creation**: AI-generated content such as articles, social media posts, and product descriptions can be used to augment human content creators' work, reduce production time, and increase efficiency.\n",
      "2. **Product Design**: Generative design tools can create 3D models, prototypes, and products that can be used for manufacturing, reducing the need for expensive prototyping processes.\n",
      "3. **Marketing Automation**: AI-powered chatbots can be used to automate customer service, lead generation, and personalized marketing campaigns.\n",
      "4. **Customer Experience**: Generative AI can be used to create personalized product recommendations, offers, and experiences based on customer behavior and preferences.\n",
      "5. **Image and Video Generation**: AI-generated images and videos can be used for advertising, social media, and other visual content creation applications.\n",
      "6. **Supply Chain Optimization**: Generative AI can analyze data from various sources (e.g., IoT devices, sensors) to optimize supply chain operations, predict demand, and reduce inventory costs.\n",
      "7. **Financial Modeling**: AI-powered financial modeling tools can create detailed forecasts, predict stock prices, and identify potential investment opportunities.\n",
      "8. **Language Translation**: Generative AI-powered translation tools can help businesses expand their global reach by providing high-quality translations for marketing materials, websites, and customer support.\n",
      "9. **Music and Audio Generation**: AI-generated music and audio content can be used for film scores, advertisements, and other audio-related applications.\n",
      "10. **Data Analysis and Visualization**: Generative AI can create insights from large datasets, allowing businesses to gain a deeper understanding of their customers, market trends, and operational performance.\n",
      "\n",
      "Some specific business use cases include:\n",
      "\n",
      "* **Virtual assistants**: Companies like Amazon and Google use generative AI-powered virtual assistants to help customers with product information, ordering, and other tasks.\n",
      "* **Personalized e-commerce**: Online retailers like Amazon and Sephora use generative AI to create personalized product recommendations for their customers based on their purchasing behavior and preferences.\n",
      "* **Automated customer service**: Companies like Bank of America and Microsoft use generative AI-powered chatbots to provide 24/7 customer support and answer common queries.\n",
      "* **Predictive maintenance**: Manufacturers like Siemens and GE use generative AI to analyze data from sensors and predict equipment failures, reducing downtime and increasing efficiency.\n",
      "\n",
      "These are just a few examples of the many business applications of Generative AI. As the technology continues to evolve, we can expect to see even more innovative uses in various industries.\n"
     ]
    }
   ],
   "source": [
    "# If this doesn't work for any reason, try the 2 versions in the following cells\n",
    "# And double check the instructions in the 'Recap on installation of Ollama' at the top of this lab\n",
    "# And if none of that works - contact me!\n",
    "\n",
    "response = requests.post(OLLAMA_API, json=payload, headers=HEADERS)\n",
    "print(response.json()['message']['content'])"
   ]
  },
  {
   "cell_type": "markdown",
   "id": "6a021f13-d6a1-4b96-8e18-4eae49d876fe",
   "metadata": {},
   "source": [
    "# Introducing the ollama package\n",
    "\n",
    "And now we'll do the same thing, but using the elegant ollama python package instead of a direct HTTP call.\n",
    "\n",
    "Under the hood, it's making the same call as above to the ollama server running at localhost:11434"
   ]
  },
  {
   "cell_type": "code",
   "execution_count": 7,
   "id": "7745b9c4-57dc-4867-9180-61fa5db55eb8",
   "metadata": {},
   "outputs": [
    {
     "name": "stdout",
     "output_type": "stream",
     "text": [
      "Generative AI has numerous business applications across various industries, including:\n",
      "\n",
      "1. **Content Creation**: Generative AI can generate high-quality content such as images, videos, music, and text. This can be used in marketing, advertising, and media production to create engaging and personalized content.\n",
      "2. **Product Design and Development**: Generative AI can design new products, such as furniture, electronics, or clothing, by generating 3D models, prototypes, and even entire product lines.\n",
      "3. **Data Analysis and Visualization**: Generative AI can analyze large datasets and generate insights, visualizations, and predictive models to help businesses make data-driven decisions.\n",
      "4. **Marketing Automation**: Generative AI can automate marketing campaigns by generating personalized emails, ads, and social media posts based on customer behavior and preferences.\n",
      "5. **Customer Service Chatbots**: Generative AI can power chatbots that can understand and respond to customer inquiries, providing personalized support and improving customer experience.\n",
      "6. **Financial Modeling and Risk Analysis**: Generative AI can generate financial models, simulate scenarios, and predict market trends, helping businesses make more informed investment decisions.\n",
      "7. **Supply Chain Optimization**: Generative AI can optimize supply chain operations by predicting demand, managing inventory, and identifying bottlenecks in the supply chain.\n",
      "8. **Language Translation**: Generative AI can translate languages in real-time, breaking language barriers and enabling global communication.\n",
      "9. **Image Recognition and Object Detection**: Generative AI can recognize objects, detect anomalies, and classify images, which has applications in industries such as healthcare, security, and e-commerce.\n",
      "10. **Predictive Maintenance**: Generative AI can predict equipment failures, optimize maintenance schedules, and reduce downtime, improving overall operational efficiency.\n",
      "\n",
      "Some specific business use cases include:\n",
      "\n",
      "* **Luxury Fashion**: Designing bespoke clothing and accessories using generative AI.\n",
      "* **E-commerce**: Generating product images, reviews, and personalized recommendations for customers.\n",
      "* **Healthcare**: Analyzing medical images, predicting patient outcomes, and developing personalized treatment plans.\n",
      "* **Financial Services**: Creating customized investment portfolios, analyzing market trends, and detecting potential risks.\n",
      "* **Manufacturing**: Optimizing production processes, predicting demand, and improving product quality.\n",
      "\n",
      "These are just a few examples of the many business applications of Generative AI. As the technology continues to evolve, we can expect to see even more innovative use cases emerge.\n"
     ]
    }
   ],
   "source": [
    "import ollama\n",
    "\n",
    "response = ollama.chat(model=MODEL, messages=messages)\n",
    "print(response['message']['content'])"
   ]
  },
  {
   "cell_type": "markdown",
   "id": "a4704e10-f5fb-4c15-a935-f046c06fb13d",
   "metadata": {},
   "source": [
    "## Alternative approach - using OpenAI python library to connect to Ollama"
   ]
  },
  {
   "cell_type": "code",
   "execution_count": 8,
   "id": "23057e00-b6fc-4678-93a9-6b31cb704bff",
   "metadata": {},
   "outputs": [
    {
     "name": "stdout",
     "output_type": "stream",
     "text": [
      "Generative Artificial Intelligence (AI) has numerous business applications across various industries. Here are some examples:\n",
      "\n",
      "1. **Content Generation**: Generative AI can be used to create high-quality content such as articles, social media posts, product descriptions, and more. This can save time and resources for businesses, allowing them to focus on other areas.\n",
      "2. **Product Design**: Generative AI can assist in the design of new products by generating prototypes, conceptual designs, and even entire product lines. This can help businesses reduce product development costs and time-to-market.\n",
      "3. **Email and Message Generation**: AI-powered chatbots can generate personalized emails, messages, and responses to customer inquiries, helping businesses provide better customer support and improve response times.\n",
      "4. **Marketing and Advertising**: Generative AI can be used to create bespoke marketing materials such as social media ads, email campaigns, and product descriptions, based on individual buyer behavior and preferences.\n",
      "5. **Data Visualization**: Generative AI can help analyze large datasets by creating interactive, 3D, and animated visualizations of data, making it easier for businesses to gain insights into customer behavior and trends.\n",
      "6. **Voice and Speech Synthesis**: Generative AI can be used to create realistic voice and speech synthesis, enabling businesses to generate professional-sounding audio recordings such as explainer videos, podcasts, or even entire audiobooks.\n",
      "7. **Financial Analysis and Forecasting**: Generative AI can analyze large financial datasets to identify trends, patterns, and predictions, helping businesses make better investment decisions and manage risk.\n",
      "8. **Automated Writing and Editing**: Generative AI-powered writing assistants can help with tasks such as proofreading, grammar checking, and even original content creation for marketing materials.\n",
      "9. **Customer Service Chatbots**: Generative AI-powered chatbots can engage customers in real-time conversations, resolve simple queries, and even escalate complex issues to human support agents.\n",
      "10. **Predictive Modeling and Decision Support Systems**: Generative AI can help businesses create predictive models that forecast customer churn, make recommendations, and provide insights for tactical decision-making.\n",
      "\n",
      "Some notable examples of companies leveraging generative AI include:\n",
      "\n",
      "- Salesforce (chatbots, content generation)\n",
      "- Google (content generation, email automation)\n",
      "- Microsoft (generative data analysis)\n",
      "- Facebook (product design and testing)\n",
      "\n",
      "Generative AI has the potential to revolutionize how businesses operate by automating repetitive tasks, providing valuable insights, and enabling creative problem-solving.\n"
     ]
    }
   ],
   "source": [
    "# There's actually an alternative approach that some people might prefer\n",
    "# You can use the OpenAI client python library to call Ollama:\n",
    "\n",
    "from openai import OpenAI\n",
    "ollama_via_openai = OpenAI(base_url='http://localhost:11434/v1', api_key='ollama')\n",
    "\n",
    "response = ollama_via_openai.chat.completions.create(\n",
    "    model=MODEL,\n",
    "    messages=messages\n",
    ")\n",
    "\n",
    "print(response.choices[0].message.content)"
   ]
  },
  {
   "cell_type": "markdown",
   "id": "1622d9bb-5c68-4d4e-9ca4-b492c751f898",
   "metadata": {},
   "source": [
    "# NOW the exercise for you\n",
    "\n",
    "Take the code from day1 and incorporate it here, to build a website summarizer that uses Llama 3.2 running locally instead of OpenAI; use either of the above approaches."
   ]
  },
  {
   "cell_type": "code",
   "execution_count": null,
   "id": "46e50107-3cf5-43d9-9ab6-a55df443ff2f",
   "metadata": {},
   "outputs": [],
   "source": []
  },
  {
   "cell_type": "code",
   "execution_count": null,
   "id": "32f9b4ba-3942-49fc-8c22-8ff05e5fb63e",
   "metadata": {},
   "outputs": [],
   "source": []
  },
  {
   "cell_type": "code",
   "execution_count": null,
   "id": "402d5686-4e76-4110-b65a-b3906c35c0a4",
   "metadata": {},
   "outputs": [],
   "source": []
  }
 ],
 "metadata": {
  "kernelspec": {
   "display_name": "Python 3 (ipykernel)",
   "language": "python",
   "name": "python3"
  },
  "language_info": {
   "codemirror_mode": {
    "name": "ipython",
    "version": 3
   },
   "file_extension": ".py",
   "mimetype": "text/x-python",
   "name": "python",
   "nbconvert_exporter": "python",
   "pygments_lexer": "ipython3",
   "version": "3.11.11"
  }
 },
 "nbformat": 4,
 "nbformat_minor": 5
}
